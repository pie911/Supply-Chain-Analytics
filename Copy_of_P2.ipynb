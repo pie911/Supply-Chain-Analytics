{
  "cells": [
    {
      "cell_type": "markdown",
      "metadata": {
        "id": "view-in-github",
        "colab_type": "text"
      },
      "source": [
        "<a href=\"https://colab.research.google.com/github/pie911/Supply-Chain-Analytics/blob/main/Copy_of_P2.ipynb\" target=\"_parent\"><img src=\"https://colab.research.google.com/assets/colab-badge.svg\" alt=\"Open In Colab\"/></a>"
      ]
    },
    {
      "cell_type": "code",
      "execution_count": null,
      "metadata": {
        "execution": {
          "iopub.execute_input": "2024-07-26T20:13:02.843686Z",
          "iopub.status.busy": "2024-07-26T20:13:02.843463Z",
          "iopub.status.idle": "2024-07-26T20:13:03.868798Z",
          "shell.execute_reply": "2024-07-26T20:13:03.867996Z"
        },
        "id": "dtAZbhYzc4Tl",
        "outputId": "b111940e-f7d0-4f20-8aaf-43b1e4e2f1d7"
      },
      "outputs": [
        {
          "name": "stdout",
          "output_type": "stream",
          "text": [
            "Note: you may need to restart the kernel to use updated packages.\n"
          ]
        }
      ],
      "source": [
        "pip install scx>=1.2.0 #Note: This may throw an Error in Google Colab since Colab uses an outdated duckdb package. This file should still work in Colab without issues."
      ]
    },
    {
      "cell_type": "markdown",
      "metadata": {
        "id": "msaRI6xK9qdd"
      },
      "source": [
        "<h1>Blinky P2</h1>\n",
        "<p>A continuation of P1</p>\n",
        "<p>Robert suggests focusing on maximizing profit instead of minimizing costs. The Blinky22 revenue is (USD)45 per unit, and the company defines profit as revenue minus transportation costs. Adjust your objective function to maximize profit and run your model. Keep in mind that the units you ship to each region can't exceed the region's demand.</p>\n",
        "<p><strong>Formulate a model using the available information. Your goal is to maximize the total profit.</strong></p>\n",
        "<a href=\"https://youtu.be/4nOE_HvxjUs\">Blinky P2 Video Walkthrough Link</a><br/>\n",
        "<iframe width=\"560\" height=\"315\"\n",
        "    src=\"https://www.youtube.com/embed/4nOE_HvxjUs\" frameborder=\"0\" allowfullscreen>\n",
        "</iframe>"
      ]
    },
    {
      "cell_type": "code",
      "execution_count": null,
      "metadata": {
        "execution": {
          "iopub.execute_input": "2024-07-26T20:13:03.911476Z",
          "iopub.status.busy": "2024-07-26T20:13:03.911231Z",
          "iopub.status.idle": "2024-07-26T20:13:03.933946Z",
          "shell.execute_reply": "2024-07-26T20:13:03.933310Z"
        },
        "id": "SFdM7adidA5O"
      },
      "outputs": [],
      "source": [
        "from scx.optimize import Model"
      ]
    },
    {
      "cell_type": "code",
      "execution_count": null,
      "metadata": {
        "execution": {
          "iopub.execute_input": "2024-07-26T20:13:03.936015Z",
          "iopub.status.busy": "2024-07-26T20:13:03.935806Z",
          "iopub.status.idle": "2024-07-26T20:13:03.940680Z",
          "shell.execute_reply": "2024-07-26T20:13:03.940174Z"
        },
        "id": "rqwrp08wdCdT"
      },
      "outputs": [],
      "source": [
        "transport = [\n",
        "    {\n",
        "        'origin_name':'A1',\n",
        "        'destination_name':'R1',\n",
        "        'distance': 105,\n",
        "        'cost_per_mile':0.12,\n",
        "    },\n",
        "    {\n",
        "        'origin_name':'A1',\n",
        "        'destination_name':'R2',\n",
        "        'distance': 256,\n",
        "        'cost_per_mile':0.12,\n",
        "    },\n",
        "    {\n",
        "        'origin_name':'A1',\n",
        "        'destination_name':'R3',\n",
        "        'distance': 86,\n",
        "        'cost_per_mile':0.12,\n",
        "    },\n",
        "    {\n",
        "        'origin_name':'A2',\n",
        "        'destination_name':'R1',\n",
        "        'distance': 240,\n",
        "        'cost_per_mile':0.12,\n",
        "    },\n",
        "    {\n",
        "        'origin_name':'A2',\n",
        "        'destination_name':'R2',\n",
        "        'distance': 136,\n",
        "        'cost_per_mile':0.12,\n",
        "    },\n",
        "    {\n",
        "        'origin_name':'A2',\n",
        "        'destination_name':'R3',\n",
        "        'distance': 198,\n",
        "        'cost_per_mile':0.12,\n",
        "    },\n",
        "]\n",
        "\n",
        "demand = [\n",
        "    {\n",
        "        'name':'R1',\n",
        "        'demand':2500\n",
        "    },\n",
        "    {\n",
        "        'name':'R2',\n",
        "        'demand':4350\n",
        "    },\n",
        "    {\n",
        "        'name':'R3',\n",
        "        'demand':3296\n",
        "    },\n",
        "]"
      ]
    },
    {
      "cell_type": "code",
      "execution_count": null,
      "metadata": {
        "execution": {
          "iopub.execute_input": "2024-07-26T20:13:03.942931Z",
          "iopub.status.busy": "2024-07-26T20:13:03.942736Z",
          "iopub.status.idle": "2024-07-26T20:13:03.946337Z",
          "shell.execute_reply": "2024-07-26T20:13:03.945848Z"
        },
        "id": "t2p2iCc5eaZH"
      },
      "outputs": [],
      "source": [
        "for t in transport:\n",
        "    # Create decision variables for each item in transport\n",
        "    t['amt']=Model.variable(name=f\"{t['origin_name']}__{t['destination_name']}__amt\", lowBound=0)\n",
        "    # Calculate the variable cost of shipping for each item in tranport\n",
        "    t['cost']=t['distance']*t['cost_per_mile']\n",
        "    # Calculate the variable profit per item shipped\n",
        "    t['profit']=45-t['cost']"
      ]
    },
    {
      "cell_type": "code",
      "execution_count": null,
      "metadata": {
        "execution": {
          "iopub.execute_input": "2024-07-26T20:13:03.948556Z",
          "iopub.status.busy": "2024-07-26T20:13:03.948349Z",
          "iopub.status.idle": "2024-07-26T20:13:03.957580Z",
          "shell.execute_reply": "2024-07-26T20:13:03.957070Z"
        },
        "id": "UyYaJ7YcetBD"
      },
      "outputs": [],
      "source": [
        "# Initialize the my_model\n",
        "my_model = Model(name=\"Blinky22\", sense='maximize')\n",
        "\n",
        "\n",
        "# Add the Objective Fn\n",
        "my_model.add_objective(\n",
        "    fn=Model.sum([t['amt']*t['profit'] for t in transport])\n",
        ")\n",
        "\n",
        "# Add Constraints\n",
        "## Demand Constraint\n",
        "for d in demand:\n",
        "    my_model.add_constraint(\n",
        "        name=f\"{d['name']}__demand\",\n",
        "        fn=Model.sum([t['amt'] for t in transport if t['destination_name']==d['name']]) <= d['demand']\n",
        "    )\n",
        "\n",
        "# Solve the my_model\n",
        "my_model.solve()"
      ]
    },
    {
      "cell_type": "code",
      "execution_count": null,
      "metadata": {
        "execution": {
          "iopub.execute_input": "2024-07-26T20:13:03.959970Z",
          "iopub.status.busy": "2024-07-26T20:13:03.959579Z",
          "iopub.status.idle": "2024-07-26T20:13:03.962772Z",
          "shell.execute_reply": "2024-07-26T20:13:03.962266Z"
        },
        "id": "4Xy39xjv9qdm",
        "outputId": "8b3c7996-9c5e-44e0-cd29-0e96b78aceb2"
      },
      "outputs": [
        {
          "name": "stdout",
          "output_type": "stream",
          "text": [
            "Blinky22:\n",
            "MAXIMIZE\n",
            "32.4*A1__R1__amt + 14.280000000000001*A1__R2__amt + 34.68*A1__R3__amt + 16.200000000000003*A2__R1__amt + 28.68*A2__R2__amt + 21.240000000000002*A2__R3__amt + 0.0\n",
            "SUBJECT TO\n",
            "R1__demand: A1__R1__amt + A2__R1__amt <= 2500\n",
            "\n",
            "R2__demand: A1__R2__amt + A2__R2__amt <= 4350\n",
            "\n",
            "R3__demand: A1__R3__amt + A2__R3__amt <= 3296\n",
            "\n",
            "VARIABLES\n",
            "A1__R1__amt Continuous\n",
            "A1__R2__amt Continuous\n",
            "A1__R3__amt Continuous\n",
            "A2__R1__amt Continuous\n",
            "A2__R2__amt Continuous\n",
            "A2__R3__amt Continuous\n",
            "\n"
          ]
        }
      ],
      "source": [
        "my_model.show_formulation()"
      ]
    },
    {
      "cell_type": "code",
      "execution_count": null,
      "metadata": {
        "colab": {
          "base_uri": "https://localhost:8080/"
        },
        "execution": {
          "iopub.execute_input": "2024-07-26T20:13:03.964971Z",
          "iopub.status.busy": "2024-07-26T20:13:03.964776Z",
          "iopub.status.idle": "2024-07-26T20:13:03.968149Z",
          "shell.execute_reply": "2024-07-26T20:13:03.967649Z"
        },
        "id": "a5F_36LGgOpA",
        "outputId": "28ea7ce0-4c4c-4fa5-b35e-71dff75aae75"
      },
      "outputs": [
        {
          "name": "stdout",
          "output_type": "stream",
          "text": [
            "{'objective': 320063.28,\n",
            " 'status': 'Optimal',\n",
            " 'variables': {'A1__R1__amt': 2500.0,\n",
            "               'A1__R2__amt': 0.0,\n",
            "               'A1__R3__amt': 3296.0,\n",
            "               'A2__R1__amt': 0.0,\n",
            "               'A2__R2__amt': 4350.0,\n",
            "               'A2__R3__amt': 0.0}}\n"
          ]
        }
      ],
      "source": [
        "# Show the outputs\n",
        "my_model.show_outputs()"
      ]
    }
  ],
  "metadata": {
    "colab": {
      "provenance": [],
      "include_colab_link": true
    },
    "kernelspec": {
      "display_name": "Python 3 (ipykernel)",
      "language": "python",
      "name": "python3"
    },
    "language_info": {
      "codemirror_mode": {
        "name": "ipython",
        "version": 3
      },
      "file_extension": ".py",
      "mimetype": "text/x-python",
      "name": "python",
      "nbconvert_exporter": "python",
      "pygments_lexer": "ipython3",
      "version": "3.12.3"
    }
  },
  "nbformat": 4,
  "nbformat_minor": 0
}